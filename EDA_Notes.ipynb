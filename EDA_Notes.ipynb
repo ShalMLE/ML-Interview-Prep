{
 "cells": [
  {
   "cell_type": "markdown",
   "id": "e4d1b840",
   "metadata": {},
   "source": [
    "## EDA Stands for Exploratory Data Analysis.\n",
    "\n",
    "### Why EDA is important?\n",
    "1. Underatnding data and their relationship\n",
    "2. Data Cleaning\n",
    "3. Data Preprocessing \n",
    "\n",
    "### What are tools used for EDA?\n",
    "1. Numpy & Pandas - Data Cleaning & Feature Engineering\n",
    "2. Matplotlip & Seaborn - Visual Analysis through Univariate, Bivariate, Multivariate Analysis etc.\n",
    "\n",
    "### Overview of Numpy & Pandas\n",
    "\n",
    "### Numpy\n",
    "\n",
    "  - Python Library\n",
    "  - Used for Numerical Computation\n",
    "  - Arrays, Matrix Operations & Mathematical Functions\n",
    "  - Performs fater on large datasets\n",
    "  - Creation and Operations on Multidimensional Array\n",
    "  - Broadcasting i.e. Elementwise operations without loops\n",
    "  - Helpful in Mathematical operations like Linear Algebra or Random Number Generation\n",
    "  \n",
    "  \n",
    "### Pandas\n",
    " \n",
    "  - Python library built-on top of Numpy\n",
    "  - Handles structured data from different types of files like CSV, Excel etc.\n",
    "  - Performs Data Manipulation, Cleaning and Analysis like,\n",
    "      - Easy file loading e.g. read_csv, read_excel etc\n",
    "      - Handles Missing data e.e. fillna, dropna\n",
    "      - Grouping of Data e.g. groupby\n",
    "      - Performs Data filtering, sorting, reshaping\n",
    "  - 2 main DS - Series and Pandas\n",
    "\n"
   ]
  },
  {
   "cell_type": "markdown",
   "id": "ee2e7973",
   "metadata": {},
   "source": [
    "# Role of Numpy and Pandas in EDA - Summary\n",
    "| Task                    | NumPy Role                | Pandas Role                    |\n",
    "| ----------------------- | ------------------------- | ------------------------------ |\n",
    "| Load Data               | ✅ Optional                | ✅ `pd.read_csv()`              |\n",
    "| Handle Missing Values   | ➖                         | ✅ `fillna()`, `dropna()`       |\n",
    "| Descriptive Stats       | ✅ `np.mean()`, `np.std()` | ✅ `df.describe()`, `df.info()` |\n",
    "| Data Filtering          | ✅ Arrays & Boolean masks  | ✅ `.loc[]`, `.query()`         |\n",
    "| Grouping & Aggregation  | ➖                         | ✅ `groupby()`                  |\n",
    "| Feature Engineering     | ✅ Math ops                | ✅ Column transformations       |\n",
    "| Data Visualization Prep | ✅ Efficient math          | ✅ Clean data for plotting      |\n"
   ]
  },
  {
   "cell_type": "markdown",
   "id": "33e3abe5",
   "metadata": {},
   "source": [
    "### Role of Matplotlib and Seaborn in EDA\n",
    "\n",
    "1. Underatanding the data distributions\n",
    "2. Spot the trends over time\n",
    "3. Find the missing data if any\n",
    "4. Reveal relationships between variables"
   ]
  },
  {
   "cell_type": "markdown",
   "id": "9b3f9ddb",
   "metadata": {},
   "source": [
    "### Matplotlib\n",
    "\n",
    "- Low-level plotting library\n",
    "- Full control over plot appearences\n",
    "- Foundation library for Seaborn\n",
    "\n",
    "\n",
    "#### Importing Matplotlib Library\n",
    "\n",
    "import matplotlib.pyplot as plt\n",
    "\n",
    "\n",
    "#### Common ways to plot Pyplot\n",
    "\n",
    "1. Pyplot Style(MATLAB-like)"
   ]
  },
  {
   "cell_type": "code",
   "execution_count": 2,
   "id": "75fc7b0e",
   "metadata": {},
   "outputs": [
    {
     "data": {
      "image/png": "[encoded data removed]",
      "text/plain": [
       "<Figure size 432x288 with 1 Axes>"
      ]
     },
     "metadata": {
      "needs_background": "light"
     },
     "output_type": "display_data"
    }
   ],
   "source": [
    "import matplotlib.pyplot as plt\n",
    "\n",
    "x = [1,2,3,4]\n",
    "y = [10,20,25,30]\n",
    "\n",
    "plt.plot(x,y)\n",
    "plt.title(\"Line Plot\")\n",
    "plt.xlabel('X-axis')\n",
    "plt.ylabel(\"Y-axis\")\n",
    "plt.show()"
   ]
  },
  {
   "cell_type": "markdown",
   "id": "0a478d6c",
   "metadata": {},
   "source": [
    "2. Object-Oriented Style"
   ]
  },
  {
   "cell_type": "code",
   "execution_count": 7,
   "id": "2102ea74",
   "metadata": {},
   "outputs": [
    {
     "data": {
      "image/png": "[encoded data removed]",
      "text/plain": [
       "<Figure size 432x288 with 1 Axes>"
      ]
     },
     "metadata": {
      "needs_background": "light"
     },
     "output_type": "display_data"
    }
   ],
   "source": [
    "fig, ax = plt.subplots()\n",
    "## Powerful for creating complex or multiple plots\n",
    "## Creates a figure (fig) - entire image on canvas\n",
    "## Creates one or more axes (ax) - part where the data is actually plotted\n",
    "ax.plot(x, y)\n",
    "ax.set_title('Line Plot')\n",
    "ax.set_xlabel('X-axis')\n",
    "ax.set_ylabel('Y-axis')\n",
    "plt.show()"
   ]
  },
  {
   "cell_type": "markdown",
   "id": "9d5b2b92",
   "metadata": {},
   "source": [
    "### Seaborn\n",
    "\n",
    "- High level data visualistaion library\n",
    "- Adavanced plots and statistical visualisation\n",
    "- Simpler than Matplotlib with few lines of code."
   ]
  },
  {
   "cell_type": "markdown",
   "id": "5b55ba95",
   "metadata": {},
   "source": [
    "### Which to use when\n",
    "\n",
    "| Task                        | Use Seaborn? | Use Matplotlib? |\n",
    "| --------------------------- | ------------ | --------------- |\n",
    "| Quick plots with stats      | ✅ Yes        | 🔄 Maybe        |\n",
    "| Fine-tuned customizations   | 🔄 Maybe     | ✅ Yes           |\n",
    "| Styling & aesthetics        | ✅ Yes        | 🔄 Maybe        |\n",
    "| Plotting images, animations | ❌ No         | ✅ Yes           |\n"
   ]
  },
  {
   "cell_type": "code",
   "execution_count": null,
   "id": "e0d45b63",
   "metadata": {},
   "outputs": [],
   "source": []
  }
 ],
 "metadata": {
  "kernelspec": {
   "display_name": "Python 3",
   "language": "python",
   "name": "python3"
  },
  "language_info": {
   "codemirror_mode": {
    "name": "ipython",
    "version": 3
   },
   "file_extension": ".py",
   "mimetype": "text/x-python",
   "name": "python",
   "nbconvert_exporter": "python",
   "pygments_lexer": "ipython3",
   "version": "3.8.8"
  }
 },
 "nbformat": 4,
 "nbformat_minor": 5
}
