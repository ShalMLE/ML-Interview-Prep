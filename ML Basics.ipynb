{
 "cells": [
  {
   "cell_type": "markdown",
   "id": "b6fd07b5",
   "metadata": {},
   "source": [
    "### What is the difference between AI, ML, and Deep Learning? \n",
    "\n",
    "AI - It is science of making machines which mimics human behaviour like learning, decision making and reasoning. \n",
    "It's goal is to build a system that simulate human thinking and behaviour. It uses Rule based system like if then \n",
    "logic, Machine Learning and Deep Learning.\n",
    "\n",
    "Examples of AI systems are chatbots eg chatgpt, virtual assistants eg siri, alexa, self driving cars like Tesla etc.\n",
    "\n",
    "ML - It is a subset of AI which makes the machines to learn the pattern from historical data and make predictions or decisions as well as improve their performance without being explicitly programmed.\n",
    "\n",
    "Spam Email Detection, stock price prediction, Recommender systms like Amazon or Netflix are few ML examples.\n",
    "\n",
    "Deep Learning - It is a subset of ML which uses neural networks with multiple layers to learn from large amount of complex data. It mimcs human brain neuron structure to hierarichal representation.\n",
    "\n",
    "Facial Recognition, Language Translation, image classification or object detection are few examples of DL."
   ]
  },
  {
   "cell_type": "markdown",
   "id": "393f753a",
   "metadata": {},
   "source": [
    "### What are the types of Machine Learning\n",
    "\n",
    "ML is basically classified into 3 main types:\n",
    "\n",
    "1. Supervised ML - The machines are trained on label dataset where input/features has corresponding output.\n",
    "For eg if input is hour studied is 5 the ouput can be as Score is 90 or above. and if input is Email output can be Spam or not.\n",
    "\n",
    "Linear Regression, Logistic Regression, Decision Trees, Support Vector Machines, Random Forest, K-Nearest Neighbours are Supervised ML Algorithms.\n",
    "\n",
    "\n",
    "2. UnSupervised ML - The Algorithms develop patterns and relationship from unlabeled data and have no predefined output for example grouping customers based on their shopping behaviour, detecting transactions etc.\n",
    "\n",
    "K-Means Clustering, Hierarichal Clustering, Principal Component Analysis and DBSCAN are UnSupervised ML Algorithm.\n",
    "\n",
    "3. Reinforcement ML - It is an algorithm where an agent learns to interact with an environment, and recieve awards and penalties like a Robot learns to walk by trial and error and get rewards for getting upright.\n",
    "\n",
    "Q-Learning, DQN, Agent, state\n"
   ]
  }
 ],
 "metadata": {
  "kernelspec": {
   "display_name": "Python 3",
   "language": "python",
   "name": "python3"
  },
  "language_info": {
   "codemirror_mode": {
    "name": "ipython",
    "version": 3
   },
   "file_extension": ".py",
   "mimetype": "text/x-python",
   "name": "python",
   "nbconvert_exporter": "python",
   "pygments_lexer": "ipython3",
   "version": "3.8.8"
  }
 },
 "nbformat": 4,
 "nbformat_minor": 5
}
